{
  "nbformat": 4,
  "nbformat_minor": 0,
  "metadata": {
    "colab": {
      "provenance": [],
      "authorship_tag": "ABX9TyNz7Q1vzj9iLKrbZ2Uj8jIV",
      "include_colab_link": true
    },
    "kernelspec": {
      "name": "python3",
      "display_name": "Python 3"
    },
    "language_info": {
      "name": "python"
    }
  },
  "cells": [
    {
      "cell_type": "markdown",
      "metadata": {
        "id": "view-in-github",
        "colab_type": "text"
      },
      "source": [
        "<a href=\"https://colab.research.google.com/github/denverkim/ppfk/blob/main/%EC%BD%94%EB%93%9C%EC%83%9D%EC%84%B1%EC%8B%A4%EC%8A%B5.ipynb\" target=\"_parent\"><img src=\"https://colab.research.google.com/assets/colab-badge.svg\" alt=\"Open In Colab\"/></a>"
      ]
    },
    {
      "cell_type": "markdown",
      "source": [
        "# 근무시간 분석"
      ],
      "metadata": {
        "id": "pWoTvVG7emRd"
      }
    },
    {
      "cell_type": "code",
      "execution_count": 1,
      "metadata": {
        "colab": {
          "base_uri": "https://localhost:8080/"
        },
        "id": "mnJxwhhWdzEJ",
        "outputId": "4b869b70-2999-478c-f4da-c6141402d57f"
      },
      "outputs": [
        {
          "output_type": "stream",
          "name": "stdout",
          "text": [
            "✅ staff_avg_hours.csv 파일이 생성되었습니다.\n"
          ]
        },
        {
          "output_type": "stream",
          "name": "stderr",
          "text": [
            "/tmp/ipython-input-1074860219.py:7: UserWarning: Could not infer format, so each element will be parsed individually, falling back to `dateutil`. To ensure parsing is consistent and as-expected, please specify a format.\n",
            "  df[\"Check_in\"] = pd.to_datetime(df[\"Check_in\"])\n",
            "/tmp/ipython-input-1074860219.py:8: UserWarning: Could not infer format, so each element will be parsed individually, falling back to `dateutil`. To ensure parsing is consistent and as-expected, please specify a format.\n",
            "  df[\"Check_out\"] = pd.to_datetime(df[\"Check_out\"])\n"
          ]
        }
      ],
      "source": [
        "import pandas as pd\n",
        "\n",
        "# 1. CSV 파일 읽기\n",
        "df = pd.read_csv(\"/content/attendance.csv\")\n",
        "\n",
        "# 2. Check_in, Check_out을 시각 형식으로 변환\n",
        "df[\"Check_in\"] = pd.to_datetime(df[\"Check_in\"])\n",
        "df[\"Check_out\"] = pd.to_datetime(df[\"Check_out\"])\n",
        "\n",
        "# 3. 근무 시간(시간 단위) 계산\n",
        "df[\"Work_hours\"] = (df[\"Check_out\"] - df[\"Check_in\"]).dt.total_seconds() / 3600\n",
        "\n",
        "# 4. 직원별 평균 근무 시간 계산\n",
        "avg_hours = df.groupby(\"Name\")[\"Work_hours\"].mean().reset_index()\n",
        "\n",
        "# 5. 컬럼명 변경\n",
        "avg_hours.rename(columns={\"Work_hours\": \"Average_hours\"}, inplace=True)\n",
        "\n",
        "# 6. 결과 저장\n",
        "avg_hours.to_csv(\"staff_avg_hours.csv\", index=False)\n",
        "\n",
        "print(\"✅ staff_avg_hours.csv 파일이 생성되었습니다.\")"
      ]
    },
    {
      "cell_type": "markdown",
      "source": [
        "# 예산 집행 내역 분석"
      ],
      "metadata": {
        "id": "MWd0Zi4Resg8"
      }
    },
    {
      "cell_type": "code",
      "source": [
        "import pandas as pd\n",
        "\n",
        "# 1. CSV 파일 읽기\n",
        "df = pd.read_csv(\"budget_2024.csv\")\n",
        "\n",
        "# 2. 잔여 예산 계산\n",
        "df[\"Remaining\"] = df[\"Allocated\"] - df[\"Used\"]\n",
        "\n",
        "# 3. 잔여 예산이 0 이하인 항목만 필터링\n",
        "df_filtered = df[df[\"Remaining\"] <= 0]\n",
        "\n",
        "# 4. 결과 출력\n",
        "print(\"잔여 예산이 0 이하인 항목:\")\n",
        "print(df_filtered)\n",
        "\n",
        "# (선택) 결과를 CSV로 저장\n",
        "df_filtered.to_csv(\"budget_remaining_zero.csv\", index=False)\n",
        "print(\"✅ 결과가 budget_remaining_zero.csv 파일로 저장되었습니다.\")"
      ],
      "metadata": {
        "colab": {
          "base_uri": "https://localhost:8080/"
        },
        "id": "Hs2yUw41fusk",
        "outputId": "e4f65d9f-e783-4fef-d8e7-39befdfd2971"
      },
      "execution_count": 3,
      "outputs": [
        {
          "output_type": "stream",
          "name": "stdout",
          "text": [
            "잔여 예산이 0 이하인 항목:\n",
            "  Category  Allocated     Used  Remaining\n",
            "1      운영비    5000000  5200000    -200000\n",
            "3      교재비    2000000  2000000          0\n",
            "4      홍보비    1500000  1600000    -100000\n",
            "5     전기요금    1000000  1050000     -50000\n",
            "✅ 결과가 budget_remaining_zero.csv 파일로 저장되었습니다.\n"
          ]
        }
      ]
    }
  ]
}